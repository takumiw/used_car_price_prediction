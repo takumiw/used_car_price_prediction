{
 "cells": [
  {
   "cell_type": "markdown",
   "id": "0eab068a-eddd-4bd7-a5e4-86489af17372",
   "metadata": {},
   "source": [
    "# Create features"
   ]
  },
  {
   "cell_type": "code",
   "execution_count": 2,
   "id": "38bf6e87-c5f8-4d87-a572-125f27e2c697",
   "metadata": {},
   "outputs": [],
   "source": [
    "COMP_NAME = \"used_car_price_prediction\"\n",
    "\n",
    "from pathlib import Path\n",
    "CUR_DIR = Path(\"__file__\").resolve().parent\n",
    "ROOT_DIR = CUR_DIR.parent\n",
    "INP_DIR = ROOT_DIR / \"input\" / COMP_NAME\n",
    "FEAT_DIR = ROOT_DIR / \"features\""
   ]
  },
  {
   "cell_type": "code",
   "execution_count": 22,
   "id": "986386c6-1dd5-4361-a62e-1a8e5defac7a",
   "metadata": {},
   "outputs": [],
   "source": [
    "import pandas as pd\n",
    "import matplotlib.pyplot as plt\n",
    "from sklearn.preprocessing import OrdinalEncoder"
   ]
  },
  {
   "cell_type": "code",
   "execution_count": 9,
   "id": "28ef7aa2-e8b6-4a43-a2b3-d643cb8ba741",
   "metadata": {},
   "outputs": [
    {
     "data": {
      "text/plain": [
       "(27532, 17)"
      ]
     },
     "execution_count": 9,
     "metadata": {},
     "output_type": "execute_result"
    }
   ],
   "source": [
    "train = pd.read_csv(INP_DIR / \"train_fold.csv\")\n",
    "train.shape"
   ]
  },
  {
   "cell_type": "code",
   "execution_count": 10,
   "id": "c3213973-e924-48aa-8067-25ef4e98f320",
   "metadata": {},
   "outputs": [
    {
     "data": {
      "text/plain": [
       "(27537, 15)"
      ]
     },
     "execution_count": 10,
     "metadata": {},
     "output_type": "execute_result"
    }
   ],
   "source": [
    "test = pd.read_csv(INP_DIR / \"test.csv\")\n",
    "test.shape"
   ]
  },
  {
   "cell_type": "markdown",
   "id": "929eb9f4-1f77-40e1-9570-235b1e55fd53",
   "metadata": {
    "jp-MarkdownHeadingCollapsed": true
   },
   "source": [
    "## Save raw features"
   ]
  },
  {
   "cell_type": "code",
   "execution_count": 11,
   "id": "e0b994c3-221c-4ca6-b9b1-78b058fd36bd",
   "metadata": {},
   "outputs": [
    {
     "data": {
      "text/html": [
       "<div>\n",
       "<style scoped>\n",
       "    .dataframe tbody tr th:only-of-type {\n",
       "        vertical-align: middle;\n",
       "    }\n",
       "\n",
       "    .dataframe tbody tr th {\n",
       "        vertical-align: top;\n",
       "    }\n",
       "\n",
       "    .dataframe thead th {\n",
       "        text-align: right;\n",
       "    }\n",
       "</style>\n",
       "<table border=\"1\" class=\"dataframe\">\n",
       "  <thead>\n",
       "    <tr style=\"text-align: right;\">\n",
       "      <th></th>\n",
       "      <th>id</th>\n",
       "      <th>region</th>\n",
       "      <th>year</th>\n",
       "      <th>manufacturer</th>\n",
       "      <th>condition</th>\n",
       "      <th>cylinders</th>\n",
       "      <th>fuel</th>\n",
       "      <th>odometer</th>\n",
       "      <th>title_status</th>\n",
       "      <th>transmission</th>\n",
       "      <th>drive</th>\n",
       "      <th>size</th>\n",
       "      <th>type</th>\n",
       "      <th>paint_color</th>\n",
       "      <th>state</th>\n",
       "      <th>price</th>\n",
       "      <th>fold</th>\n",
       "    </tr>\n",
       "  </thead>\n",
       "  <tbody>\n",
       "    <tr>\n",
       "      <th>0</th>\n",
       "      <td>0</td>\n",
       "      <td>nashville</td>\n",
       "      <td>1949</td>\n",
       "      <td>bmw</td>\n",
       "      <td>excellent</td>\n",
       "      <td>6 cylinders</td>\n",
       "      <td>gas</td>\n",
       "      <td>115148</td>\n",
       "      <td>clean</td>\n",
       "      <td>manual</td>\n",
       "      <td>rwd</td>\n",
       "      <td>mid-size</td>\n",
       "      <td>convertible</td>\n",
       "      <td>orange</td>\n",
       "      <td>NaN</td>\n",
       "      <td>27587</td>\n",
       "      <td>3</td>\n",
       "    </tr>\n",
       "    <tr>\n",
       "      <th>1</th>\n",
       "      <td>1</td>\n",
       "      <td>state college</td>\n",
       "      <td>2013</td>\n",
       "      <td>toyota</td>\n",
       "      <td>fair</td>\n",
       "      <td>8 cylinders</td>\n",
       "      <td>gas</td>\n",
       "      <td>172038</td>\n",
       "      <td>clean</td>\n",
       "      <td>automatic</td>\n",
       "      <td>rwd</td>\n",
       "      <td>full-size</td>\n",
       "      <td>sedan</td>\n",
       "      <td>silver</td>\n",
       "      <td>pa</td>\n",
       "      <td>4724</td>\n",
       "      <td>7</td>\n",
       "    </tr>\n",
       "    <tr>\n",
       "      <th>2</th>\n",
       "      <td>2</td>\n",
       "      <td>wichita</td>\n",
       "      <td>1998</td>\n",
       "      <td>ford</td>\n",
       "      <td>good</td>\n",
       "      <td>6 cylinders</td>\n",
       "      <td>gas</td>\n",
       "      <td>152492</td>\n",
       "      <td>clean</td>\n",
       "      <td>automatic</td>\n",
       "      <td>fwd</td>\n",
       "      <td>full-size</td>\n",
       "      <td>SUV</td>\n",
       "      <td>silver</td>\n",
       "      <td>ks</td>\n",
       "      <td>10931</td>\n",
       "      <td>6</td>\n",
       "    </tr>\n",
       "    <tr>\n",
       "      <th>3</th>\n",
       "      <td>3</td>\n",
       "      <td>albany</td>\n",
       "      <td>2014</td>\n",
       "      <td>ford</td>\n",
       "      <td>excellent</td>\n",
       "      <td>4 cylinders</td>\n",
       "      <td>gas</td>\n",
       "      <td>104118</td>\n",
       "      <td>clean</td>\n",
       "      <td>manual</td>\n",
       "      <td>fwd</td>\n",
       "      <td>mid-size</td>\n",
       "      <td>SUV</td>\n",
       "      <td>blue</td>\n",
       "      <td>ny</td>\n",
       "      <td>16553</td>\n",
       "      <td>1</td>\n",
       "    </tr>\n",
       "    <tr>\n",
       "      <th>4</th>\n",
       "      <td>4</td>\n",
       "      <td>redding</td>\n",
       "      <td>2005</td>\n",
       "      <td>ford</td>\n",
       "      <td>excellent</td>\n",
       "      <td>6 cylinders</td>\n",
       "      <td>gas</td>\n",
       "      <td>144554</td>\n",
       "      <td>clean</td>\n",
       "      <td>manual</td>\n",
       "      <td>fwd</td>\n",
       "      <td>mid-size</td>\n",
       "      <td>sedan</td>\n",
       "      <td>red</td>\n",
       "      <td>ca</td>\n",
       "      <td>5158</td>\n",
       "      <td>4</td>\n",
       "    </tr>\n",
       "  </tbody>\n",
       "</table>\n",
       "</div>"
      ],
      "text/plain": [
       "   id         region  year manufacturer  condition    cylinders fuel  \\\n",
       "0   0      nashville  1949          bmw  excellent  6 cylinders  gas   \n",
       "1   1  state college  2013       toyota       fair  8 cylinders  gas   \n",
       "2   2        wichita  1998         ford       good  6 cylinders  gas   \n",
       "3   3         albany  2014         ford  excellent  4 cylinders  gas   \n",
       "4   4        redding  2005         ford  excellent  6 cylinders  gas   \n",
       "\n",
       "   odometer title_status transmission drive       size         type  \\\n",
       "0    115148        clean       manual   rwd   mid-size  convertible   \n",
       "1    172038        clean    automatic   rwd  full-size        sedan   \n",
       "2    152492        clean    automatic   fwd  full-size          SUV   \n",
       "3    104118        clean       manual   fwd   mid-size          SUV   \n",
       "4    144554        clean       manual   fwd   mid-size        sedan   \n",
       "\n",
       "  paint_color state  price  fold  \n",
       "0      orange   NaN  27587     3  \n",
       "1      silver    pa   4724     7  \n",
       "2      silver    ks  10931     6  \n",
       "3        blue    ny  16553     1  \n",
       "4         red    ca   5158     4  "
      ]
     },
     "execution_count": 11,
     "metadata": {},
     "output_type": "execute_result"
    }
   ],
   "source": [
    "train.head()"
   ]
  },
  {
   "cell_type": "code",
   "execution_count": 58,
   "id": "36fd13ab-4091-4970-868b-549ed6efd989",
   "metadata": {},
   "outputs": [],
   "source": [
    "num_features = [\n",
    "    \"year\",\n",
    "    \"odometer\",\n",
    "]\n",
    "\n",
    "cat_features = [\n",
    "    \"region\",\n",
    "    \"manufacturer\",\n",
    "    \"condition\",\n",
    "    \"cylinders\",\n",
    "    \"fuel\",\n",
    "    \"title_status\",\n",
    "    \"transmission\",\n",
    "    \"drive\",\n",
    "    \"size\",\n",
    "    \"type\",\n",
    "    \"paint_color\",\n",
    "    \"state\",\n",
    "]"
   ]
  },
  {
   "cell_type": "code",
   "execution_count": 59,
   "id": "0d56522e-d00a-4a50-9ad1-9fa5a935edea",
   "metadata": {},
   "outputs": [
    {
     "data": {
      "text/plain": [
       "year        int64\n",
       "odometer    int64\n",
       "dtype: object"
      ]
     },
     "execution_count": 59,
     "metadata": {},
     "output_type": "execute_result"
    }
   ],
   "source": [
    "train[num_features].dtypes"
   ]
  },
  {
   "cell_type": "code",
   "execution_count": 60,
   "id": "b6ea6325-8c50-43f1-933e-6ac2204f33a6",
   "metadata": {},
   "outputs": [
    {
     "data": {
      "text/plain": [
       "year        int64\n",
       "odometer    int64\n",
       "dtype: object"
      ]
     },
     "execution_count": 60,
     "metadata": {},
     "output_type": "execute_result"
    }
   ],
   "source": [
    "test[num_features].dtypes"
   ]
  },
  {
   "cell_type": "code",
   "execution_count": 61,
   "id": "e438770b-8888-4b15-b035-75406bea9182",
   "metadata": {},
   "outputs": [],
   "source": [
    "# 連続変数はそのまま保存\n",
    "for feat in num_features:\n",
    "    tmp = train[[\"id\", \"fold\", feat]]\n",
    "    tmp.to_csv((FEAT_DIR / \"train\" / feat).with_suffix(\".csv\"), index=False)"
   ]
  },
  {
   "cell_type": "code",
   "execution_count": 63,
   "id": "46d451e5-d007-4250-913e-581742fca809",
   "metadata": {},
   "outputs": [],
   "source": [
    "# 連続変数はそのまま保存\n",
    "for feat in num_features:\n",
    "    tmp = test[[\"id\", feat]]\n",
    "    tmp.to_csv((FEAT_DIR / \"test\" / feat).with_suffix(\".csv\"), index=False)"
   ]
  },
  {
   "cell_type": "code",
   "execution_count": 64,
   "id": "74ad4852-caaf-45a0-9784-014a08cefe07",
   "metadata": {},
   "outputs": [
    {
     "data": {
      "text/plain": [
       "region          object\n",
       "manufacturer    object\n",
       "condition       object\n",
       "cylinders       object\n",
       "fuel            object\n",
       "title_status    object\n",
       "transmission    object\n",
       "drive           object\n",
       "size            object\n",
       "type            object\n",
       "paint_color     object\n",
       "state           object\n",
       "dtype: object"
      ]
     },
     "execution_count": 64,
     "metadata": {},
     "output_type": "execute_result"
    }
   ],
   "source": [
    "train[cat_features].dtypes"
   ]
  },
  {
   "cell_type": "code",
   "execution_count": 31,
   "id": "09fa1039-adf3-4c9b-82b8-0cdfaa33c558",
   "metadata": {},
   "outputs": [
    {
     "data": {
      "text/html": [
       "<style>#sk-container-id-2 {color: black;}#sk-container-id-2 pre{padding: 0;}#sk-container-id-2 div.sk-toggleable {background-color: white;}#sk-container-id-2 label.sk-toggleable__label {cursor: pointer;display: block;width: 100%;margin-bottom: 0;padding: 0.3em;box-sizing: border-box;text-align: center;}#sk-container-id-2 label.sk-toggleable__label-arrow:before {content: \"▸\";float: left;margin-right: 0.25em;color: #696969;}#sk-container-id-2 label.sk-toggleable__label-arrow:hover:before {color: black;}#sk-container-id-2 div.sk-estimator:hover label.sk-toggleable__label-arrow:before {color: black;}#sk-container-id-2 div.sk-toggleable__content {max-height: 0;max-width: 0;overflow: hidden;text-align: left;background-color: #f0f8ff;}#sk-container-id-2 div.sk-toggleable__content pre {margin: 0.2em;color: black;border-radius: 0.25em;background-color: #f0f8ff;}#sk-container-id-2 input.sk-toggleable__control:checked~div.sk-toggleable__content {max-height: 200px;max-width: 100%;overflow: auto;}#sk-container-id-2 input.sk-toggleable__control:checked~label.sk-toggleable__label-arrow:before {content: \"▾\";}#sk-container-id-2 div.sk-estimator input.sk-toggleable__control:checked~label.sk-toggleable__label {background-color: #d4ebff;}#sk-container-id-2 div.sk-label input.sk-toggleable__control:checked~label.sk-toggleable__label {background-color: #d4ebff;}#sk-container-id-2 input.sk-hidden--visually {border: 0;clip: rect(1px 1px 1px 1px);clip: rect(1px, 1px, 1px, 1px);height: 1px;margin: -1px;overflow: hidden;padding: 0;position: absolute;width: 1px;}#sk-container-id-2 div.sk-estimator {font-family: monospace;background-color: #f0f8ff;border: 1px dotted black;border-radius: 0.25em;box-sizing: border-box;margin-bottom: 0.5em;}#sk-container-id-2 div.sk-estimator:hover {background-color: #d4ebff;}#sk-container-id-2 div.sk-parallel-item::after {content: \"\";width: 100%;border-bottom: 1px solid gray;flex-grow: 1;}#sk-container-id-2 div.sk-label:hover label.sk-toggleable__label {background-color: #d4ebff;}#sk-container-id-2 div.sk-serial::before {content: \"\";position: absolute;border-left: 1px solid gray;box-sizing: border-box;top: 0;bottom: 0;left: 50%;z-index: 0;}#sk-container-id-2 div.sk-serial {display: flex;flex-direction: column;align-items: center;background-color: white;padding-right: 0.2em;padding-left: 0.2em;position: relative;}#sk-container-id-2 div.sk-item {position: relative;z-index: 1;}#sk-container-id-2 div.sk-parallel {display: flex;align-items: stretch;justify-content: center;background-color: white;position: relative;}#sk-container-id-2 div.sk-item::before, #sk-container-id-2 div.sk-parallel-item::before {content: \"\";position: absolute;border-left: 1px solid gray;box-sizing: border-box;top: 0;bottom: 0;left: 50%;z-index: -1;}#sk-container-id-2 div.sk-parallel-item {display: flex;flex-direction: column;z-index: 1;position: relative;background-color: white;}#sk-container-id-2 div.sk-parallel-item:first-child::after {align-self: flex-end;width: 50%;}#sk-container-id-2 div.sk-parallel-item:last-child::after {align-self: flex-start;width: 50%;}#sk-container-id-2 div.sk-parallel-item:only-child::after {width: 0;}#sk-container-id-2 div.sk-dashed-wrapped {border: 1px dashed gray;margin: 0 0.4em 0.5em 0.4em;box-sizing: border-box;padding-bottom: 0.4em;background-color: white;}#sk-container-id-2 div.sk-label label {font-family: monospace;font-weight: bold;display: inline-block;line-height: 1.2em;}#sk-container-id-2 div.sk-label-container {text-align: center;}#sk-container-id-2 div.sk-container {/* jupyter's `normalize.less` sets `[hidden] { display: none; }` but bootstrap.min.css set `[hidden] { display: none !important; }` so we also need the `!important` here to be able to override the default hidden behavior on the sphinx rendered scikit-learn.org. See: https://github.com/scikit-learn/scikit-learn/issues/21755 */display: inline-block !important;position: relative;}#sk-container-id-2 div.sk-text-repr-fallback {display: none;}</style><div id=\"sk-container-id-2\" class=\"sk-top-container\"><div class=\"sk-text-repr-fallback\"><pre>OrdinalEncoder()</pre><b>In a Jupyter environment, please rerun this cell to show the HTML representation or trust the notebook. <br />On GitHub, the HTML representation is unable to render, please try loading this page with nbviewer.org.</b></div><div class=\"sk-container\" hidden><div class=\"sk-item\"><div class=\"sk-estimator sk-toggleable\"><input class=\"sk-toggleable__control sk-hidden--visually\" id=\"sk-estimator-id-2\" type=\"checkbox\" checked><label for=\"sk-estimator-id-2\" class=\"sk-toggleable__label sk-toggleable__label-arrow\">OrdinalEncoder</label><div class=\"sk-toggleable__content\"><pre>OrdinalEncoder()</pre></div></div></div></div></div>"
      ],
      "text/plain": [
       "OrdinalEncoder()"
      ]
     },
     "execution_count": 31,
     "metadata": {},
     "output_type": "execute_result"
    }
   ],
   "source": [
    "# カテゴリ変数は label-encoding してから保存\n",
    "encoder = OrdinalEncoder()\n",
    "encoder.fit(train[cat_features])"
   ]
  },
  {
   "cell_type": "code",
   "execution_count": 76,
   "id": "5c0fde9a-a9b9-4e3d-aca6-e48c5c8507ec",
   "metadata": {
    "scrolled": true
   },
   "outputs": [],
   "source": [
    "train_enc = pd.DataFrame(encoder.transform(train[cat_features]), columns=cat_features)\n",
    "test_enc = pd.DataFrame(encoder.transform(test[cat_features]), columns=cat_features)"
   ]
  },
  {
   "cell_type": "code",
   "execution_count": 75,
   "id": "bac109fc-69c1-4a91-b1b1-3f4c50c8c38f",
   "metadata": {},
   "outputs": [],
   "source": [
    "for feat in cat_features:\n",
    "    tmp = train[[\"id\", \"fold\"]].copy()\n",
    "    tmp[feat] = train_enc[feat].astype(\"Int64\").astype(\"category\")\n",
    "    tmp.to_csv((FEAT_DIR / \"train\" / feat).with_suffix(\".csv\"), index=False)"
   ]
  },
  {
   "cell_type": "code",
   "execution_count": 77,
   "id": "b90316fa-c707-4ee3-878c-c97975da6957",
   "metadata": {},
   "outputs": [],
   "source": [
    "for feat in cat_features:\n",
    "    tmp = test[[\"id\"]].copy()\n",
    "    tmp[feat] = test_enc[feat].astype(\"Int64\").astype(\"category\")\n",
    "    tmp.to_csv((FEAT_DIR / \"test\" / feat).with_suffix(\".csv\"), index=False)"
   ]
  },
  {
   "cell_type": "markdown",
   "id": "b44b3347-46c4-47c8-8bfc-3a236b79f131",
   "metadata": {},
   "source": [
    "## Feature Engineering"
   ]
  },
  {
   "cell_type": "markdown",
   "id": "8c0c4e91-3f4e-4b19-8c4d-6649c15792a5",
   "metadata": {
    "jp-MarkdownHeadingCollapsed": true
   },
   "source": [
    "### state (販売州)\n",
    "\n",
    "region(販売地域) から欠損処理"
   ]
  },
  {
   "cell_type": "markdown",
   "id": "7b9c5c9f-ae5d-4fab-b566-82501e77953c",
   "metadata": {
    "jp-MarkdownHeadingCollapsed": true
   },
   "source": [
    "#### eda"
   ]
  },
  {
   "cell_type": "code",
   "execution_count": 83,
   "id": "7503585b-c7b0-49c8-94bc-831c673960db",
   "metadata": {},
   "outputs": [
    {
     "data": {
      "text/plain": [
       "(3304, 3029)"
      ]
     },
     "execution_count": 83,
     "metadata": {},
     "output_type": "execute_result"
    }
   ],
   "source": [
    "train.state.isnull().sum(), test.state.isnull().sum()"
   ]
  },
  {
   "cell_type": "code",
   "execution_count": 86,
   "id": "f31fb764-517d-40f5-a07b-ebc94c6ec791",
   "metadata": {},
   "outputs": [
    {
     "data": {
      "text/plain": [
       "372"
      ]
     },
     "execution_count": 86,
     "metadata": {},
     "output_type": "execute_result"
    }
   ],
   "source": [
    "train.region.nunique()"
   ]
  },
  {
   "cell_type": "code",
   "execution_count": 87,
   "id": "715df4c5-15c3-4336-9237-e4c894f3f0a7",
   "metadata": {},
   "outputs": [
    {
     "data": {
      "text/plain": [
       "313"
      ]
     },
     "execution_count": 87,
     "metadata": {},
     "output_type": "execute_result"
    }
   ],
   "source": [
    "train[train.state.isnull()].region.nunique()"
   ]
  },
  {
   "cell_type": "code",
   "execution_count": 88,
   "id": "796bd880-33ec-464c-b076-6f8de6632ea3",
   "metadata": {},
   "outputs": [
    {
     "data": {
      "text/html": [
       "<div>\n",
       "<style scoped>\n",
       "    .dataframe tbody tr th:only-of-type {\n",
       "        vertical-align: middle;\n",
       "    }\n",
       "\n",
       "    .dataframe tbody tr th {\n",
       "        vertical-align: top;\n",
       "    }\n",
       "\n",
       "    .dataframe thead th {\n",
       "        text-align: right;\n",
       "    }\n",
       "</style>\n",
       "<table border=\"1\" class=\"dataframe\">\n",
       "  <thead>\n",
       "    <tr style=\"text-align: right;\">\n",
       "      <th></th>\n",
       "      <th>region</th>\n",
       "      <th>state</th>\n",
       "    </tr>\n",
       "  </thead>\n",
       "  <tbody>\n",
       "    <tr>\n",
       "      <th>0</th>\n",
       "      <td>nashville</td>\n",
       "      <td>NaN</td>\n",
       "    </tr>\n",
       "    <tr>\n",
       "      <th>1</th>\n",
       "      <td>state college</td>\n",
       "      <td>pa</td>\n",
       "    </tr>\n",
       "    <tr>\n",
       "      <th>2</th>\n",
       "      <td>wichita</td>\n",
       "      <td>ks</td>\n",
       "    </tr>\n",
       "    <tr>\n",
       "      <th>3</th>\n",
       "      <td>albany</td>\n",
       "      <td>ny</td>\n",
       "    </tr>\n",
       "    <tr>\n",
       "      <th>4</th>\n",
       "      <td>redding</td>\n",
       "      <td>ca</td>\n",
       "    </tr>\n",
       "  </tbody>\n",
       "</table>\n",
       "</div>"
      ],
      "text/plain": [
       "          region state\n",
       "0      nashville   NaN\n",
       "1  state college    pa\n",
       "2        wichita    ks\n",
       "3         albany    ny\n",
       "4        redding    ca"
      ]
     },
     "execution_count": 88,
     "metadata": {},
     "output_type": "execute_result"
    }
   ],
   "source": [
    "train[[\"region\", \"state\"]].head()"
   ]
  },
  {
   "cell_type": "code",
   "execution_count": 89,
   "id": "82d4e25e-e677-4354-991c-3ce0575e85c9",
   "metadata": {},
   "outputs": [
    {
     "data": {
      "text/plain": [
       "array([nan, 'tn'], dtype=object)"
      ]
     },
     "execution_count": 89,
     "metadata": {},
     "output_type": "execute_result"
    }
   ],
   "source": [
    "train.query(\"region == 'nashville'\").state.unique()"
   ]
  },
  {
   "cell_type": "code",
   "execution_count": 98,
   "id": "398d8239-4a0c-4166-ae77-620c64b6379f",
   "metadata": {},
   "outputs": [
    {
     "data": {
      "text/plain": [
       "state\n",
       "2    310\n",
       "1     62\n",
       "Name: count, dtype: int64"
      ]
     },
     "execution_count": 98,
     "metadata": {},
     "output_type": "execute_result"
    }
   ],
   "source": [
    "# region (販売地域) に対応する state (販売州) がいくつあるか (null 含めてmax2 ある)\n",
    "train.fillna(\"NA\").groupby(\"region\").state.nunique().value_counts()"
   ]
  },
  {
   "cell_type": "code",
   "execution_count": 104,
   "id": "e684c052-d0e9-4c10-9b4a-71d9eb7c9bdc",
   "metadata": {},
   "outputs": [
    {
     "data": {
      "text/plain": [
       "state\n",
       "1    369\n",
       "Name: count, dtype: int64"
      ]
     },
     "execution_count": 104,
     "metadata": {},
     "output_type": "execute_result"
    }
   ],
   "source": [
    "# null 除けば必ず１種類\n",
    "train[[\"region\", \"state\"]].dropna().groupby(\"region\").state.nunique().value_counts()"
   ]
  },
  {
   "cell_type": "code",
   "execution_count": 108,
   "id": "177cda46-f577-4ad5-a1f6-ecfc99efdc85",
   "metadata": {},
   "outputs": [
    {
     "data": {
      "text/plain": [
       "region\n",
       "SF bay area       ca\n",
       "abilene           tx\n",
       "akron / canton    oh\n",
       "albany            ny\n",
       "albuquerque       nm\n",
       "Name: state, dtype: object"
      ]
     },
     "execution_count": 108,
     "metadata": {},
     "output_type": "execute_result"
    }
   ],
   "source": [
    "region2state = train[[\"region\", \"state\"]].dropna().groupby(\"region\").state.max()\n",
    "region2state.head()"
   ]
  },
  {
   "cell_type": "code",
   "execution_count": 110,
   "id": "b80db7be-c497-414d-b376-02ed8bbd7145",
   "metadata": {},
   "outputs": [],
   "source": [
    "tmp_train = train[[\"region\", \"state\"]].copy()"
   ]
  },
  {
   "cell_type": "code",
   "execution_count": 113,
   "id": "07efeaba-d05e-4115-a8b1-7dee8e14a336",
   "metadata": {},
   "outputs": [
    {
     "data": {
      "text/html": [
       "<div>\n",
       "<style scoped>\n",
       "    .dataframe tbody tr th:only-of-type {\n",
       "        vertical-align: middle;\n",
       "    }\n",
       "\n",
       "    .dataframe tbody tr th {\n",
       "        vertical-align: top;\n",
       "    }\n",
       "\n",
       "    .dataframe thead th {\n",
       "        text-align: right;\n",
       "    }\n",
       "</style>\n",
       "<table border=\"1\" class=\"dataframe\">\n",
       "  <thead>\n",
       "    <tr style=\"text-align: right;\">\n",
       "      <th></th>\n",
       "      <th>region</th>\n",
       "      <th>state</th>\n",
       "    </tr>\n",
       "  </thead>\n",
       "  <tbody>\n",
       "    <tr>\n",
       "      <th>0</th>\n",
       "      <td>nashville</td>\n",
       "      <td>tn</td>\n",
       "    </tr>\n",
       "    <tr>\n",
       "      <th>1</th>\n",
       "      <td>state college</td>\n",
       "      <td>pa</td>\n",
       "    </tr>\n",
       "    <tr>\n",
       "      <th>2</th>\n",
       "      <td>wichita</td>\n",
       "      <td>ks</td>\n",
       "    </tr>\n",
       "    <tr>\n",
       "      <th>3</th>\n",
       "      <td>albany</td>\n",
       "      <td>ny</td>\n",
       "    </tr>\n",
       "    <tr>\n",
       "      <th>4</th>\n",
       "      <td>redding</td>\n",
       "      <td>ca</td>\n",
       "    </tr>\n",
       "  </tbody>\n",
       "</table>\n",
       "</div>"
      ],
      "text/plain": [
       "          region state\n",
       "0      nashville    tn\n",
       "1  state college    pa\n",
       "2        wichita    ks\n",
       "3         albany    ny\n",
       "4        redding    ca"
      ]
     },
     "execution_count": 113,
     "metadata": {},
     "output_type": "execute_result"
    }
   ],
   "source": [
    "tmp_train.loc[tmp_train[\"state\"].isnull(), \"state\"] = tmp_train.loc[tmp_train[\"state\"].isnull(), \"region\"].map(region2state)\n",
    "tmp_train.head()"
   ]
  },
  {
   "cell_type": "code",
   "execution_count": 114,
   "id": "5efad8ea-a23e-4643-a1dc-c8acbf48b0d4",
   "metadata": {},
   "outputs": [
    {
     "data": {
      "text/plain": [
       "region    0\n",
       "state     4\n",
       "dtype: int64"
      ]
     },
     "execution_count": 114,
     "metadata": {},
     "output_type": "execute_result"
    }
   ],
   "source": [
    "tmp_train.isnull().sum()"
   ]
  },
  {
   "cell_type": "code",
   "execution_count": 115,
   "id": "60595b03-ec5f-448c-a0fb-046941a0fac0",
   "metadata": {},
   "outputs": [
    {
     "data": {
      "text/html": [
       "<div>\n",
       "<style scoped>\n",
       "    .dataframe tbody tr th:only-of-type {\n",
       "        vertical-align: middle;\n",
       "    }\n",
       "\n",
       "    .dataframe tbody tr th {\n",
       "        vertical-align: top;\n",
       "    }\n",
       "\n",
       "    .dataframe thead th {\n",
       "        text-align: right;\n",
       "    }\n",
       "</style>\n",
       "<table border=\"1\" class=\"dataframe\">\n",
       "  <thead>\n",
       "    <tr style=\"text-align: right;\">\n",
       "      <th></th>\n",
       "      <th>region</th>\n",
       "      <th>state</th>\n",
       "    </tr>\n",
       "  </thead>\n",
       "  <tbody>\n",
       "    <tr>\n",
       "      <th>2101</th>\n",
       "      <td>northwest KS</td>\n",
       "      <td>NaN</td>\n",
       "    </tr>\n",
       "    <tr>\n",
       "      <th>8399</th>\n",
       "      <td>northwest KS</td>\n",
       "      <td>NaN</td>\n",
       "    </tr>\n",
       "    <tr>\n",
       "      <th>8630</th>\n",
       "      <td>ashtabula</td>\n",
       "      <td>NaN</td>\n",
       "    </tr>\n",
       "    <tr>\n",
       "      <th>13319</th>\n",
       "      <td>southern WV</td>\n",
       "      <td>NaN</td>\n",
       "    </tr>\n",
       "  </tbody>\n",
       "</table>\n",
       "</div>"
      ],
      "text/plain": [
       "             region state\n",
       "2101   northwest KS   NaN\n",
       "8399   northwest KS   NaN\n",
       "8630      ashtabula   NaN\n",
       "13319   southern WV   NaN"
      ]
     },
     "execution_count": 115,
     "metadata": {},
     "output_type": "execute_result"
    }
   ],
   "source": [
    "# northwest KS → northwest Kansas → ks (Kansas)\n",
    "# southern WV → southern West Virginia → wv (West Virginia)\n",
    "# ashtabula → oh (Ohio)\n",
    "tmp_train[tmp_train.state.isnull()]"
   ]
  },
  {
   "cell_type": "code",
   "execution_count": 126,
   "id": "a794468f-3a9d-47aa-9bb8-f4154ae0d088",
   "metadata": {},
   "outputs": [
    {
     "data": {
      "text/html": [
       "<div>\n",
       "<style scoped>\n",
       "    .dataframe tbody tr th:only-of-type {\n",
       "        vertical-align: middle;\n",
       "    }\n",
       "\n",
       "    .dataframe tbody tr th {\n",
       "        vertical-align: top;\n",
       "    }\n",
       "\n",
       "    .dataframe thead th {\n",
       "        text-align: right;\n",
       "    }\n",
       "</style>\n",
       "<table border=\"1\" class=\"dataframe\">\n",
       "  <thead>\n",
       "    <tr style=\"text-align: right;\">\n",
       "      <th></th>\n",
       "      <th>state</th>\n",
       "      <th>region</th>\n",
       "    </tr>\n",
       "  </thead>\n",
       "  <tbody>\n",
       "    <tr>\n",
       "      <th>0</th>\n",
       "      <td>co</td>\n",
       "      <td>western slope</td>\n",
       "    </tr>\n",
       "    <tr>\n",
       "      <th>1</th>\n",
       "      <td>or</td>\n",
       "      <td>roseburg</td>\n",
       "    </tr>\n",
       "    <tr>\n",
       "      <th>2</th>\n",
       "      <td>oh</td>\n",
       "      <td>akron / canton</td>\n",
       "    </tr>\n",
       "    <tr>\n",
       "      <th>3</th>\n",
       "      <td>co</td>\n",
       "      <td>denver</td>\n",
       "    </tr>\n",
       "    <tr>\n",
       "      <th>4</th>\n",
       "      <td>nc</td>\n",
       "      <td>hickory / lenoir</td>\n",
       "    </tr>\n",
       "  </tbody>\n",
       "</table>\n",
       "</div>"
      ],
      "text/plain": [
       "  state            region\n",
       "0    co     western slope\n",
       "1    or          roseburg\n",
       "2    oh    akron / canton\n",
       "3    co            denver\n",
       "4    nc  hickory / lenoir"
      ]
     },
     "execution_count": 126,
     "metadata": {},
     "output_type": "execute_result"
    }
   ],
   "source": [
    "tmp_test = test[[\"state\", \"region\"]].copy()\n",
    "tmp_test.loc[tmp_test[\"state\"].isnull(), \"state\"] = tmp_test.loc[tmp_test[\"state\"].isnull(), \"region\"].map(region2state)\n",
    "tmp_test.head()"
   ]
  },
  {
   "cell_type": "code",
   "execution_count": 127,
   "id": "d666c765-0a9f-43ca-8aae-fbc58072993c",
   "metadata": {},
   "outputs": [
    {
     "data": {
      "text/plain": [
       "state     0\n",
       "region    0\n",
       "dtype: int64"
      ]
     },
     "execution_count": 127,
     "metadata": {},
     "output_type": "execute_result"
    }
   ],
   "source": [
    "tmp_test.isnull().sum()"
   ]
  },
  {
   "cell_type": "markdown",
   "id": "ba3729d4-daf2-490f-927e-8e5b756b075f",
   "metadata": {
    "jp-MarkdownHeadingCollapsed": true
   },
   "source": [
    "#### region から欠損処理"
   ]
  },
  {
   "cell_type": "code",
   "execution_count": 132,
   "id": "4da4b44b-4993-42fe-897f-06932088d9f0",
   "metadata": {},
   "outputs": [],
   "source": [
    "# create mapping dict\n",
    "region2state = train[[\"region\", \"state\"]].dropna().groupby(\"region\").state.max().to_dict()\n",
    "region2state[\"northwest KS\"] = \"ks\"\n",
    "region2state[\"southern WV\"] = \"wv\"\n",
    "region2state[\"ashtabula\"] = \"oh\""
   ]
  },
  {
   "cell_type": "code",
   "execution_count": 133,
   "id": "6faea6f2-85ed-46a0-a64a-a8866b399f4c",
   "metadata": {},
   "outputs": [],
   "source": [
    "tmp_train = train[[\"id\", \"fold\", \"region\", \"state\"]].copy()\n",
    "tmp_test = test[[\"id\", \"region\", \"state\"]].copy()\n",
    "\n",
    "tmp_train.loc[tmp_train[\"state\"].isnull(), \"state\"] = tmp_train.loc[tmp_train[\"state\"].isnull(), \"region\"].map(region2state)\n",
    "tmp_test.loc[tmp_test[\"state\"].isnull(), \"state\"] = tmp_test.loc[tmp_test[\"state\"].isnull(), \"region\"].map(region2state)"
   ]
  },
  {
   "cell_type": "code",
   "execution_count": 134,
   "id": "0a91cfc1-aeba-45c7-a688-6620e28cd7ec",
   "metadata": {},
   "outputs": [
    {
     "data": {
      "text/plain": [
       "id        0\n",
       "fold      0\n",
       "region    0\n",
       "state     0\n",
       "dtype: int64"
      ]
     },
     "execution_count": 134,
     "metadata": {},
     "output_type": "execute_result"
    }
   ],
   "source": [
    "tmp_train.isnull().sum()"
   ]
  },
  {
   "cell_type": "code",
   "execution_count": 135,
   "id": "32bc262b-1893-4728-ad2e-a8ff36842c8f",
   "metadata": {},
   "outputs": [
    {
     "data": {
      "text/plain": [
       "id        0\n",
       "region    0\n",
       "state     0\n",
       "dtype: int64"
      ]
     },
     "execution_count": 135,
     "metadata": {},
     "output_type": "execute_result"
    }
   ],
   "source": [
    "tmp_test.isnull().sum()"
   ]
  },
  {
   "cell_type": "code",
   "execution_count": 138,
   "id": "db032818-6857-4bc9-a571-02b1d308353f",
   "metadata": {},
   "outputs": [
    {
     "data": {
      "text/html": [
       "<style>#sk-container-id-3 {color: black;}#sk-container-id-3 pre{padding: 0;}#sk-container-id-3 div.sk-toggleable {background-color: white;}#sk-container-id-3 label.sk-toggleable__label {cursor: pointer;display: block;width: 100%;margin-bottom: 0;padding: 0.3em;box-sizing: border-box;text-align: center;}#sk-container-id-3 label.sk-toggleable__label-arrow:before {content: \"▸\";float: left;margin-right: 0.25em;color: #696969;}#sk-container-id-3 label.sk-toggleable__label-arrow:hover:before {color: black;}#sk-container-id-3 div.sk-estimator:hover label.sk-toggleable__label-arrow:before {color: black;}#sk-container-id-3 div.sk-toggleable__content {max-height: 0;max-width: 0;overflow: hidden;text-align: left;background-color: #f0f8ff;}#sk-container-id-3 div.sk-toggleable__content pre {margin: 0.2em;color: black;border-radius: 0.25em;background-color: #f0f8ff;}#sk-container-id-3 input.sk-toggleable__control:checked~div.sk-toggleable__content {max-height: 200px;max-width: 100%;overflow: auto;}#sk-container-id-3 input.sk-toggleable__control:checked~label.sk-toggleable__label-arrow:before {content: \"▾\";}#sk-container-id-3 div.sk-estimator input.sk-toggleable__control:checked~label.sk-toggleable__label {background-color: #d4ebff;}#sk-container-id-3 div.sk-label input.sk-toggleable__control:checked~label.sk-toggleable__label {background-color: #d4ebff;}#sk-container-id-3 input.sk-hidden--visually {border: 0;clip: rect(1px 1px 1px 1px);clip: rect(1px, 1px, 1px, 1px);height: 1px;margin: -1px;overflow: hidden;padding: 0;position: absolute;width: 1px;}#sk-container-id-3 div.sk-estimator {font-family: monospace;background-color: #f0f8ff;border: 1px dotted black;border-radius: 0.25em;box-sizing: border-box;margin-bottom: 0.5em;}#sk-container-id-3 div.sk-estimator:hover {background-color: #d4ebff;}#sk-container-id-3 div.sk-parallel-item::after {content: \"\";width: 100%;border-bottom: 1px solid gray;flex-grow: 1;}#sk-container-id-3 div.sk-label:hover label.sk-toggleable__label {background-color: #d4ebff;}#sk-container-id-3 div.sk-serial::before {content: \"\";position: absolute;border-left: 1px solid gray;box-sizing: border-box;top: 0;bottom: 0;left: 50%;z-index: 0;}#sk-container-id-3 div.sk-serial {display: flex;flex-direction: column;align-items: center;background-color: white;padding-right: 0.2em;padding-left: 0.2em;position: relative;}#sk-container-id-3 div.sk-item {position: relative;z-index: 1;}#sk-container-id-3 div.sk-parallel {display: flex;align-items: stretch;justify-content: center;background-color: white;position: relative;}#sk-container-id-3 div.sk-item::before, #sk-container-id-3 div.sk-parallel-item::before {content: \"\";position: absolute;border-left: 1px solid gray;box-sizing: border-box;top: 0;bottom: 0;left: 50%;z-index: -1;}#sk-container-id-3 div.sk-parallel-item {display: flex;flex-direction: column;z-index: 1;position: relative;background-color: white;}#sk-container-id-3 div.sk-parallel-item:first-child::after {align-self: flex-end;width: 50%;}#sk-container-id-3 div.sk-parallel-item:last-child::after {align-self: flex-start;width: 50%;}#sk-container-id-3 div.sk-parallel-item:only-child::after {width: 0;}#sk-container-id-3 div.sk-dashed-wrapped {border: 1px dashed gray;margin: 0 0.4em 0.5em 0.4em;box-sizing: border-box;padding-bottom: 0.4em;background-color: white;}#sk-container-id-3 div.sk-label label {font-family: monospace;font-weight: bold;display: inline-block;line-height: 1.2em;}#sk-container-id-3 div.sk-label-container {text-align: center;}#sk-container-id-3 div.sk-container {/* jupyter's `normalize.less` sets `[hidden] { display: none; }` but bootstrap.min.css set `[hidden] { display: none !important; }` so we also need the `!important` here to be able to override the default hidden behavior on the sphinx rendered scikit-learn.org. See: https://github.com/scikit-learn/scikit-learn/issues/21755 */display: inline-block !important;position: relative;}#sk-container-id-3 div.sk-text-repr-fallback {display: none;}</style><div id=\"sk-container-id-3\" class=\"sk-top-container\"><div class=\"sk-text-repr-fallback\"><pre>OrdinalEncoder()</pre><b>In a Jupyter environment, please rerun this cell to show the HTML representation or trust the notebook. <br />On GitHub, the HTML representation is unable to render, please try loading this page with nbviewer.org.</b></div><div class=\"sk-container\" hidden><div class=\"sk-item\"><div class=\"sk-estimator sk-toggleable\"><input class=\"sk-toggleable__control sk-hidden--visually\" id=\"sk-estimator-id-3\" type=\"checkbox\" checked><label for=\"sk-estimator-id-3\" class=\"sk-toggleable__label sk-toggleable__label-arrow\">OrdinalEncoder</label><div class=\"sk-toggleable__content\"><pre>OrdinalEncoder()</pre></div></div></div></div></div>"
      ],
      "text/plain": [
       "OrdinalEncoder()"
      ]
     },
     "execution_count": 138,
     "metadata": {},
     "output_type": "execute_result"
    }
   ],
   "source": [
    "# カテゴリ変数は label-encoding してから保存\n",
    "encoder = OrdinalEncoder()\n",
    "encoder.fit(tmp_train[\"state\"].values.reshape(-1, 1))"
   ]
  },
  {
   "cell_type": "code",
   "execution_count": 141,
   "id": "6b9e40a9-5160-4f7f-b5c5-89842252f249",
   "metadata": {},
   "outputs": [],
   "source": [
    "tmp_train[\"state_fillna\"] = encoder.transform(tmp_train[\"state\"].values.reshape(-1, 1))\n",
    "tmp_test[\"state_fillna\"] = encoder.transform(tmp_test[\"state\"].values.reshape(-1, 1))"
   ]
  },
  {
   "cell_type": "code",
   "execution_count": 142,
   "id": "91171c5f-0748-454f-83ee-feb163346ec6",
   "metadata": {},
   "outputs": [
    {
     "data": {
      "text/html": [
       "<div>\n",
       "<style scoped>\n",
       "    .dataframe tbody tr th:only-of-type {\n",
       "        vertical-align: middle;\n",
       "    }\n",
       "\n",
       "    .dataframe tbody tr th {\n",
       "        vertical-align: top;\n",
       "    }\n",
       "\n",
       "    .dataframe thead th {\n",
       "        text-align: right;\n",
       "    }\n",
       "</style>\n",
       "<table border=\"1\" class=\"dataframe\">\n",
       "  <thead>\n",
       "    <tr style=\"text-align: right;\">\n",
       "      <th></th>\n",
       "      <th>id</th>\n",
       "      <th>fold</th>\n",
       "      <th>region</th>\n",
       "      <th>state</th>\n",
       "      <th>state_fillna</th>\n",
       "    </tr>\n",
       "  </thead>\n",
       "  <tbody>\n",
       "    <tr>\n",
       "      <th>0</th>\n",
       "      <td>0</td>\n",
       "      <td>3</td>\n",
       "      <td>nashville</td>\n",
       "      <td>tn</td>\n",
       "      <td>42.0</td>\n",
       "    </tr>\n",
       "    <tr>\n",
       "      <th>1</th>\n",
       "      <td>1</td>\n",
       "      <td>7</td>\n",
       "      <td>state college</td>\n",
       "      <td>pa</td>\n",
       "      <td>38.0</td>\n",
       "    </tr>\n",
       "    <tr>\n",
       "      <th>2</th>\n",
       "      <td>2</td>\n",
       "      <td>6</td>\n",
       "      <td>wichita</td>\n",
       "      <td>ks</td>\n",
       "      <td>16.0</td>\n",
       "    </tr>\n",
       "    <tr>\n",
       "      <th>3</th>\n",
       "      <td>3</td>\n",
       "      <td>1</td>\n",
       "      <td>albany</td>\n",
       "      <td>ny</td>\n",
       "      <td>34.0</td>\n",
       "    </tr>\n",
       "    <tr>\n",
       "      <th>4</th>\n",
       "      <td>4</td>\n",
       "      <td>4</td>\n",
       "      <td>redding</td>\n",
       "      <td>ca</td>\n",
       "      <td>4.0</td>\n",
       "    </tr>\n",
       "  </tbody>\n",
       "</table>\n",
       "</div>"
      ],
      "text/plain": [
       "   id  fold         region state  state_fillna\n",
       "0   0     3      nashville    tn          42.0\n",
       "1   1     7  state college    pa          38.0\n",
       "2   2     6        wichita    ks          16.0\n",
       "3   3     1         albany    ny          34.0\n",
       "4   4     4        redding    ca           4.0"
      ]
     },
     "execution_count": 142,
     "metadata": {},
     "output_type": "execute_result"
    }
   ],
   "source": [
    "tmp_train.head()"
   ]
  },
  {
   "cell_type": "code",
   "execution_count": 143,
   "id": "5bf2e6c7-6f3e-4681-b766-de0fab15a8f5",
   "metadata": {},
   "outputs": [],
   "source": [
    "tmp_train[\"state_fillna\"] = tmp_train[\"state_fillna\"].astype(\"Int64\").astype(\"category\")\n",
    "tmp_train[[\"id\", \"fold\", \"state_fillna\"]].to_csv((FEAT_DIR / \"train\" / \"state_fillna\").with_suffix(\".csv\"), index=False)"
   ]
  },
  {
   "cell_type": "code",
   "execution_count": 145,
   "id": "f25b8f66-4b3f-4144-85c9-b4e652f43fa4",
   "metadata": {},
   "outputs": [],
   "source": [
    "tmp_test[\"state_fillna\"] = tmp_test[\"state_fillna\"].astype(\"Int64\").astype(\"category\")\n",
    "tmp_test[[\"id\", \"state_fillna\"]].to_csv((FEAT_DIR / \"test\" / \"state_fillna\").with_suffix(\".csv\"), index=False)"
   ]
  },
  {
   "cell_type": "markdown",
   "id": "b8525baf-cf49-45a2-a507-08781df7b3f7",
   "metadata": {
    "jp-MarkdownHeadingCollapsed": true
   },
   "source": [
    "### year (製造年)\n",
    "3000年代は 2000年前後に処理"
   ]
  },
  {
   "cell_type": "markdown",
   "id": "538acf80-e41f-47d0-829c-bbbd288e63ed",
   "metadata": {},
   "source": [
    "#### 外れ値処理"
   ]
  },
  {
   "cell_type": "code",
   "execution_count": 147,
   "id": "b425e232-ba18-438d-882f-1df74aa05952",
   "metadata": {},
   "outputs": [],
   "source": [
    "map_year_outlier = lambda x: x if x < 2025 else x - 1000"
   ]
  },
  {
   "cell_type": "code",
   "execution_count": 149,
   "id": "fa196312-1824-4855-8d83-5091585d769f",
   "metadata": {},
   "outputs": [],
   "source": [
    "tmp_train = train[[\"id\", \"fold\", \"year\"]].copy()\n",
    "tmp_test = test[[\"id\", \"year\"]].copy()\n",
    "\n",
    "tmp_train[\"year_round_outlier\"] = tmp_train[\"year\"].map(map_year_outlier)\n",
    "tmp_test[\"year_round_outlier\"] = tmp_test[\"year\"].map(map_year_outlier)"
   ]
  },
  {
   "cell_type": "code",
   "execution_count": 151,
   "id": "d40a9ba0-8ce8-48dd-8a2c-135a2b1e625b",
   "metadata": {},
   "outputs": [],
   "source": [
    "tmp_train[[\"id\", \"fold\", \"year_round_outlier\"]].to_csv((FEAT_DIR / \"train\" / \"year_round_outlier\").with_suffix(\".csv\"), index=False)"
   ]
  },
  {
   "cell_type": "code",
   "execution_count": 152,
   "id": "5a4aa1dc-10c1-4806-ba74-9b5912444cd7",
   "metadata": {},
   "outputs": [],
   "source": [
    "tmp_test[[\"id\", \"year_round_outlier\"]].to_csv((FEAT_DIR / \"test\" / \"year_round_outlier\").with_suffix(\".csv\"), index=False)"
   ]
  },
  {
   "cell_type": "markdown",
   "id": "e2cbf4db-f60b-4225-9caa-b79029994aed",
   "metadata": {
    "jp-MarkdownHeadingCollapsed": true
   },
   "source": [
    "### odometer (走行距離)\n",
    "マイナスは非負に直す必要あり, -1はフラグにしても良いかも, マイルっぽい"
   ]
  },
  {
   "cell_type": "markdown",
   "id": "b2e6e7ef-01ec-48bb-b226-d4f641cfa5d9",
   "metadata": {
    "jp-MarkdownHeadingCollapsed": true
   },
   "source": [
    "#### eda"
   ]
  },
  {
   "cell_type": "code",
   "execution_count": 158,
   "id": "051811de-626b-48b6-946b-c1b034c392de",
   "metadata": {},
   "outputs": [
    {
     "data": {
      "text/plain": [
       "odometer\n",
       "-1         264\n",
       "-131869      1\n",
       "Name: count, dtype: int64"
      ]
     },
     "execution_count": 158,
     "metadata": {},
     "output_type": "execute_result"
    }
   ],
   "source": [
    "train.query(\"odometer < 0\").odometer.value_counts()"
   ]
  },
  {
   "cell_type": "code",
   "execution_count": 159,
   "id": "066d37f9-13f1-4300-ad05-e87ca5eeca37",
   "metadata": {},
   "outputs": [
    {
     "data": {
      "text/plain": [
       "odometer\n",
       "-1    124\n",
       "Name: count, dtype: int64"
      ]
     },
     "execution_count": 159,
     "metadata": {},
     "output_type": "execute_result"
    }
   ],
   "source": [
    "test.query(\"odometer < 0\").odometer.value_counts()"
   ]
  },
  {
   "cell_type": "code",
   "execution_count": 160,
   "id": "68f92aee-f762-481d-829a-17ca477e7e41",
   "metadata": {},
   "outputs": [
    {
     "data": {
      "text/html": [
       "<div>\n",
       "<style scoped>\n",
       "    .dataframe tbody tr th:only-of-type {\n",
       "        vertical-align: middle;\n",
       "    }\n",
       "\n",
       "    .dataframe tbody tr th {\n",
       "        vertical-align: top;\n",
       "    }\n",
       "\n",
       "    .dataframe thead th {\n",
       "        text-align: right;\n",
       "    }\n",
       "</style>\n",
       "<table border=\"1\" class=\"dataframe\">\n",
       "  <thead>\n",
       "    <tr style=\"text-align: right;\">\n",
       "      <th></th>\n",
       "      <th>id</th>\n",
       "      <th>region</th>\n",
       "      <th>year</th>\n",
       "      <th>manufacturer</th>\n",
       "      <th>condition</th>\n",
       "      <th>cylinders</th>\n",
       "      <th>fuel</th>\n",
       "      <th>odometer</th>\n",
       "      <th>title_status</th>\n",
       "      <th>transmission</th>\n",
       "      <th>drive</th>\n",
       "      <th>size</th>\n",
       "      <th>type</th>\n",
       "      <th>paint_color</th>\n",
       "      <th>state</th>\n",
       "      <th>price</th>\n",
       "      <th>fold</th>\n",
       "    </tr>\n",
       "  </thead>\n",
       "  <tbody>\n",
       "    <tr>\n",
       "      <th>759</th>\n",
       "      <td>759</td>\n",
       "      <td>sarasota-bradenton</td>\n",
       "      <td>2015</td>\n",
       "      <td>chevrolet</td>\n",
       "      <td>excellent</td>\n",
       "      <td>8 cylinders</td>\n",
       "      <td>gas</td>\n",
       "      <td>-131869</td>\n",
       "      <td>rebuilt</td>\n",
       "      <td>manual</td>\n",
       "      <td>rwd</td>\n",
       "      <td>full-size</td>\n",
       "      <td>SUV</td>\n",
       "      <td>blue</td>\n",
       "      <td>fl</td>\n",
       "      <td>7014</td>\n",
       "      <td>5</td>\n",
       "    </tr>\n",
       "  </tbody>\n",
       "</table>\n",
       "</div>"
      ],
      "text/plain": [
       "      id              region  year manufacturer  condition    cylinders fuel  \\\n",
       "759  759  sarasota-bradenton  2015    chevrolet  excellent  8 cylinders  gas   \n",
       "\n",
       "     odometer title_status transmission drive       size type paint_color  \\\n",
       "759   -131869      rebuilt       manual   rwd  full-size  SUV        blue   \n",
       "\n",
       "    state  price  fold  \n",
       "759    fl   7014     5  "
      ]
     },
     "execution_count": 160,
     "metadata": {},
     "output_type": "execute_result"
    }
   ],
   "source": [
    "train.query(\"odometer == -131869\")"
   ]
  },
  {
   "cell_type": "code",
   "execution_count": 166,
   "id": "6b7e0217-18d4-4bb1-958f-e6a93ddced3c",
   "metadata": {},
   "outputs": [
    {
     "data": {
      "text/plain": [
       "<Axes: ylabel='Frequency'>"
      ]
     },
     "execution_count": 166,
     "metadata": {},
     "output_type": "execute_result"
    },
    {
     "data": {
      "image/png": "[encoded data removed]",
      "text/plain": [
       "<Figure size 2000x500 with 1 Axes>"
      ]
     },
     "metadata": {
      "image/png": {
       "height": 428,
       "width": 1608
      }
     },
     "output_type": "display_data"
    }
   ],
   "source": [
    "train.query(\"odometer > 0 & 6000 < price < 8000 & 2013 < year < 2017 & manufacturer == 'chevrolet'\").odometer.plot(kind=\"hist\", bins=32, figsize=(20, 5))"
   ]
  },
  {
   "cell_type": "markdown",
   "id": "a2d89ac2-8d31-4b22-8f5a-9a2ebba3bac7",
   "metadata": {
    "jp-MarkdownHeadingCollapsed": true
   },
   "source": [
    "#### 外れ値　と -1 処理"
   ]
  },
  {
   "cell_type": "code",
   "execution_count": 168,
   "id": "0dab6ef5-c242-4cee-9e0f-719c494bda09",
   "metadata": {},
   "outputs": [],
   "source": [
    "# train の -131869 は 131869 に変換\n",
    "tmp_train = train[[\"id\", \"fold\", \"odometer\"]].copy()\n",
    "tmp_test = test[[\"id\", \"odometer\"]].copy()\n",
    "\n",
    "tmp_train[\"odometer_fix_outlier\"] = tmp_train[\"c\"]\n",
    "tmp_train.loc[tmp_train[\"odometer_fix_outlier\"] == -131869, \"odometer_fix_outlier\"] = 131869\n",
    "tmp_test[\"odometer_fix_outlier\"] = tmp_test[\"odometer\"]"
   ]
  },
  {
   "cell_type": "code",
   "execution_count": 176,
   "id": "d968b514-7746-43a6-8b6b-eab0c1ca8ca7",
   "metadata": {},
   "outputs": [],
   "source": [
    "# -1 フラグを作成\n",
    "tmp_train[\"odometer_neg1\"] = 0\n",
    "tmp_train.loc[tmp_train[\"odometer\"] == -1, \"odometer_neg1\"] = 1\n",
    "\n",
    "tmp_test[\"odometer_neg1\"] = 0\n",
    "tmp_test.loc[tmp_test[\"odometer\"] == -1, \"odometer_neg1\"] = 1"
   ]
  },
  {
   "cell_type": "code",
   "execution_count": 177,
   "id": "15fdc051-2405-45c3-8905-812f2d207c66",
   "metadata": {},
   "outputs": [],
   "source": [
    "tmp_train[[\"id\", \"fold\", \"odometer_fix_outlier\"]].to_csv((FEAT_DIR / \"train\" / \"odometer_fix_outlier\").with_suffix(\".csv\"), index=False)\n",
    "tmp_train[[\"id\", \"fold\", \"odometer_neg1\"]].to_csv((FEAT_DIR / \"train\" / \"odometer_neg1\").with_suffix(\".csv\"), index=False)\n",
    "\n",
    "tmp_test[[\"id\", \"odometer_fix_outlier\"]].to_csv((FEAT_DIR / \"test\" / \"odometer_fix_outlier\").with_suffix(\".csv\"), index=False)\n",
    "tmp_test[[\"id\", \"odometer_neg1\"]].to_csv((FEAT_DIR / \"test\" / \"odometer_neg1\").with_suffix(\".csv\"), index=False)"
   ]
  },
  {
   "cell_type": "markdown",
   "id": "c1d7192a-ad08-4b4d-b978-63e142009f3a",
   "metadata": {
    "jp-MarkdownHeadingCollapsed": true
   },
   "source": [
    "### manufacturer (製造メーカー)\n",
    "文字列の前処理"
   ]
  },
  {
   "cell_type": "markdown",
   "id": "1328e6de-1dd4-4a5c-96af-208f8cd71cc0",
   "metadata": {
    "jp-MarkdownHeadingCollapsed": true
   },
   "source": [
    "#### eda"
   ]
  },
  {
   "cell_type": "code",
   "execution_count": 178,
   "id": "573fb7bd-e7d2-4a76-9ff0-b918d162966d",
   "metadata": {},
   "outputs": [
    {
     "data": {
      "text/plain": [
       "125"
      ]
     },
     "execution_count": 178,
     "metadata": {},
     "output_type": "execute_result"
    }
   ],
   "source": [
    "train.manufacturer.nunique()"
   ]
  },
  {
   "cell_type": "code",
   "execution_count": 179,
   "id": "b80cc783-bb37-4435-9c48-5387073a53e9",
   "metadata": {},
   "outputs": [],
   "source": [
    "import unicodedata\n",
    "str_map = str.maketrans(\"аαᴄоѕ\", \"aacos\")"
   ]
  },
  {
   "cell_type": "code",
   "execution_count": 180,
   "id": "3146be78-a450-4266-abf5-218a51cc76f2",
   "metadata": {},
   "outputs": [
    {
     "data": {
      "text/plain": [
       "(37, 37)"
      ]
     },
     "execution_count": 180,
     "metadata": {},
     "output_type": "execute_result"
    }
   ],
   "source": [
    "# 全角を半角に変換 + 大文字を小文字に変換 + 名寄せ\n",
    "train.manufacturer.map(lambda x: unicodedata.normalize(\"NFKC\", x).lower().translate(str_map)).nunique(), test.manufacturer.map(lambda x: unicodedata.normalize(\"NFKC\", x).lower().translate(str_map)).nunique()"
   ]
  },
  {
   "cell_type": "markdown",
   "id": "c57da9e3-56a0-4c31-87ca-bdafed099bfc",
   "metadata": {},
   "source": [
    "#### 文字列の前処理"
   ]
  },
  {
   "cell_type": "code",
   "execution_count": 184,
   "id": "9dfc2ed5-b331-4d42-97b8-adcd1b97b856",
   "metadata": {},
   "outputs": [],
   "source": [
    "# 名寄せ\n",
    "tmp_train = train[[\"id\", \"fold\", \"manufacturer\"]].copy()\n",
    "tmp_test = test[[\"id\", \"manufacturer\"]].copy()\n",
    "\n",
    "tmp_train[\"manufacturer_merge\"] = tmp_train.manufacturer.map(lambda x: unicodedata.normalize(\"NFKC\", x).lower().translate(str_map))\n",
    "tmp_test[\"manufacturer_merge\"] = tmp_test.manufacturer.map(lambda x: unicodedata.normalize(\"NFKC\", x).lower().translate(str_map))"
   ]
  },
  {
   "cell_type": "code",
   "execution_count": 188,
   "id": "fee71047-0d05-48ac-8485-493ab453b25a",
   "metadata": {},
   "outputs": [
    {
     "data": {
      "text/html": [
       "<style>#sk-container-id-4 {color: black;}#sk-container-id-4 pre{padding: 0;}#sk-container-id-4 div.sk-toggleable {background-color: white;}#sk-container-id-4 label.sk-toggleable__label {cursor: pointer;display: block;width: 100%;margin-bottom: 0;padding: 0.3em;box-sizing: border-box;text-align: center;}#sk-container-id-4 label.sk-toggleable__label-arrow:before {content: \"▸\";float: left;margin-right: 0.25em;color: #696969;}#sk-container-id-4 label.sk-toggleable__label-arrow:hover:before {color: black;}#sk-container-id-4 div.sk-estimator:hover label.sk-toggleable__label-arrow:before {color: black;}#sk-container-id-4 div.sk-toggleable__content {max-height: 0;max-width: 0;overflow: hidden;text-align: left;background-color: #f0f8ff;}#sk-container-id-4 div.sk-toggleable__content pre {margin: 0.2em;color: black;border-radius: 0.25em;background-color: #f0f8ff;}#sk-container-id-4 input.sk-toggleable__control:checked~div.sk-toggleable__content {max-height: 200px;max-width: 100%;overflow: auto;}#sk-container-id-4 input.sk-toggleable__control:checked~label.sk-toggleable__label-arrow:before {content: \"▾\";}#sk-container-id-4 div.sk-estimator input.sk-toggleable__control:checked~label.sk-toggleable__label {background-color: #d4ebff;}#sk-container-id-4 div.sk-label input.sk-toggleable__control:checked~label.sk-toggleable__label {background-color: #d4ebff;}#sk-container-id-4 input.sk-hidden--visually {border: 0;clip: rect(1px 1px 1px 1px);clip: rect(1px, 1px, 1px, 1px);height: 1px;margin: -1px;overflow: hidden;padding: 0;position: absolute;width: 1px;}#sk-container-id-4 div.sk-estimator {font-family: monospace;background-color: #f0f8ff;border: 1px dotted black;border-radius: 0.25em;box-sizing: border-box;margin-bottom: 0.5em;}#sk-container-id-4 div.sk-estimator:hover {background-color: #d4ebff;}#sk-container-id-4 div.sk-parallel-item::after {content: \"\";width: 100%;border-bottom: 1px solid gray;flex-grow: 1;}#sk-container-id-4 div.sk-label:hover label.sk-toggleable__label {background-color: #d4ebff;}#sk-container-id-4 div.sk-serial::before {content: \"\";position: absolute;border-left: 1px solid gray;box-sizing: border-box;top: 0;bottom: 0;left: 50%;z-index: 0;}#sk-container-id-4 div.sk-serial {display: flex;flex-direction: column;align-items: center;background-color: white;padding-right: 0.2em;padding-left: 0.2em;position: relative;}#sk-container-id-4 div.sk-item {position: relative;z-index: 1;}#sk-container-id-4 div.sk-parallel {display: flex;align-items: stretch;justify-content: center;background-color: white;position: relative;}#sk-container-id-4 div.sk-item::before, #sk-container-id-4 div.sk-parallel-item::before {content: \"\";position: absolute;border-left: 1px solid gray;box-sizing: border-box;top: 0;bottom: 0;left: 50%;z-index: -1;}#sk-container-id-4 div.sk-parallel-item {display: flex;flex-direction: column;z-index: 1;position: relative;background-color: white;}#sk-container-id-4 div.sk-parallel-item:first-child::after {align-self: flex-end;width: 50%;}#sk-container-id-4 div.sk-parallel-item:last-child::after {align-self: flex-start;width: 50%;}#sk-container-id-4 div.sk-parallel-item:only-child::after {width: 0;}#sk-container-id-4 div.sk-dashed-wrapped {border: 1px dashed gray;margin: 0 0.4em 0.5em 0.4em;box-sizing: border-box;padding-bottom: 0.4em;background-color: white;}#sk-container-id-4 div.sk-label label {font-family: monospace;font-weight: bold;display: inline-block;line-height: 1.2em;}#sk-container-id-4 div.sk-label-container {text-align: center;}#sk-container-id-4 div.sk-container {/* jupyter's `normalize.less` sets `[hidden] { display: none; }` but bootstrap.min.css set `[hidden] { display: none !important; }` so we also need the `!important` here to be able to override the default hidden behavior on the sphinx rendered scikit-learn.org. See: https://github.com/scikit-learn/scikit-learn/issues/21755 */display: inline-block !important;position: relative;}#sk-container-id-4 div.sk-text-repr-fallback {display: none;}</style><div id=\"sk-container-id-4\" class=\"sk-top-container\"><div class=\"sk-text-repr-fallback\"><pre>OrdinalEncoder()</pre><b>In a Jupyter environment, please rerun this cell to show the HTML representation or trust the notebook. <br />On GitHub, the HTML representation is unable to render, please try loading this page with nbviewer.org.</b></div><div class=\"sk-container\" hidden><div class=\"sk-item\"><div class=\"sk-estimator sk-toggleable\"><input class=\"sk-toggleable__control sk-hidden--visually\" id=\"sk-estimator-id-4\" type=\"checkbox\" checked><label for=\"sk-estimator-id-4\" class=\"sk-toggleable__label sk-toggleable__label-arrow\">OrdinalEncoder</label><div class=\"sk-toggleable__content\"><pre>OrdinalEncoder()</pre></div></div></div></div></div>"
      ],
      "text/plain": [
       "OrdinalEncoder()"
      ]
     },
     "execution_count": 188,
     "metadata": {},
     "output_type": "execute_result"
    }
   ],
   "source": [
    "# カテゴリ変数は label-encoding してから保存\n",
    "encoder = OrdinalEncoder()\n",
    "encoder.fit(tmp_train[\"manufacturer_merge\"].values.reshape(-1, 1))"
   ]
  },
  {
   "cell_type": "code",
   "execution_count": 189,
   "id": "a1cd1294-1ca9-4426-9aed-4b1706247fd0",
   "metadata": {},
   "outputs": [],
   "source": [
    "tmp_train[\"manufacturer_merge\"] = encoder.transform(tmp_train[\"manufacturer_merge\"].values.reshape(-1, 1))\n",
    "tmp_test[\"manufacturer_merge\"] = encoder.transform(tmp_test[\"manufacturer_merge\"].values.reshape(-1, 1))"
   ]
  },
  {
   "cell_type": "code",
   "execution_count": 192,
   "id": "d99c579b-994a-408c-bded-1f78f91f1d8e",
   "metadata": {},
   "outputs": [],
   "source": [
    "tmp_train[\"manufacturer_merge\"] = tmp_train[\"manufacturer_merge\"].astype(\"Int64\").astype(\"category\")\n",
    "tmp_train[[\"id\", \"fold\", \"manufacturer_merge\"]].to_csv((FEAT_DIR / \"train\" / \"manufacturer_merge\").with_suffix(\".csv\"), index=False)"
   ]
  },
  {
   "cell_type": "code",
   "execution_count": 193,
   "id": "57c10715-0eb8-4174-85cb-a43b76f80a6c",
   "metadata": {},
   "outputs": [],
   "source": [
    "tmp_test[\"manufacturer_merge\"] = tmp_test[\"manufacturer_merge\"].astype(\"Int64\").astype(\"category\")\n",
    "tmp_test[[\"id\", \"manufacturer_merge\"]].to_csv((FEAT_DIR / \"test\" / \"manufacturer_merge\").with_suffix(\".csv\"), index=False)"
   ]
  },
  {
   "cell_type": "markdown",
   "id": "33b7ab76-5004-4afc-8de1-2df44698106a",
   "metadata": {
    "jp-MarkdownHeadingCollapsed": true
   },
   "source": [
    "### type (ボディタイプ)"
   ]
  },
  {
   "cell_type": "code",
   "execution_count": 199,
   "id": "dc761a41-7796-4d10-a95d-8b08e13e5655",
   "metadata": {},
   "outputs": [
    {
     "data": {
      "text/plain": [
       "type\n",
       "1     584\n",
       "2     227\n",
       "3     149\n",
       "4      93\n",
       "5      54\n",
       "6      35\n",
       "7      19\n",
       "8      14\n",
       "9      12\n",
       "0       9\n",
       "10      9\n",
       "11      1\n",
       "13      1\n",
       "12      1\n",
       "Name: count, dtype: int64"
      ]
     },
     "execution_count": 199,
     "metadata": {},
     "output_type": "execute_result"
    }
   ],
   "source": [
    "train.groupby([\"size\", \"cylinders\", \"manufacturer\", \"drive\"]).type.nunique().value_counts()"
   ]
  },
  {
   "cell_type": "markdown",
   "id": "987d3d8d-fbbe-48ef-afab-f21becd57f54",
   "metadata": {
    "jp-MarkdownHeadingCollapsed": true
   },
   "source": [
    "### size (大きさ)"
   ]
  },
  {
   "cell_type": "code",
   "execution_count": 201,
   "id": "a9731be7-794d-46b2-ab73-be477c43ddf2",
   "metadata": {},
   "outputs": [
    {
     "data": {
      "text/plain": [
       "9"
      ]
     },
     "execution_count": 201,
     "metadata": {},
     "output_type": "execute_result"
    }
   ],
   "source": [
    "train[\"size\"].nunique()"
   ]
  },
  {
   "cell_type": "code",
   "execution_count": 202,
   "id": "a8276ddc-1b3c-4819-b9a3-81f5e033cc25",
   "metadata": {},
   "outputs": [],
   "source": [
    "str_map = str.maketrans(\"ー−\", \"--\")"
   ]
  },
  {
   "cell_type": "code",
   "execution_count": 208,
   "id": "0979a800-8a09-424a-9b02-2425a237381a",
   "metadata": {},
   "outputs": [],
   "source": [
    "tmp_train = train[[\"id\", \"fold\", \"size\"]].copy()\n",
    "tmp_test = test[[\"id\", \"size\"]].copy()\n",
    "\n",
    "tmp_train[\"size_merge\"] = tmp_train[\"size\"].map(lambda x: x.translate(str_map))\n",
    "tmp_test[\"size_merge\"] = tmp_test[\"size\"].map(lambda x: x.translate(str_map))"
   ]
  },
  {
   "cell_type": "code",
   "execution_count": 209,
   "id": "7e6cb4c4-428f-432b-9779-a9eabfb30ad3",
   "metadata": {},
   "outputs": [
    {
     "data": {
      "text/plain": [
       "array(['mid-size', 'full-size', 'sub-compact', 'compact'], dtype=object)"
      ]
     },
     "execution_count": 209,
     "metadata": {},
     "output_type": "execute_result"
    }
   ],
   "source": [
    "# sub-compact < compact < mid-size < full-size\n",
    "tmp_train[\"size_merge\"].unique()"
   ]
  },
  {
   "cell_type": "code",
   "execution_count": 210,
   "id": "77839416-da62-4492-a537-8fe53519895d",
   "metadata": {},
   "outputs": [],
   "source": [
    "# label-encoding\n",
    "cat2labe = {\n",
    "    \"sub-compact\": 0,\n",
    "    \"compact\": 1,\n",
    "    \"mid-size\": 2,\n",
    "    \"full-size\": 3\n",
    "}\n",
    "tmp_train[\"size_merge\"] = tmp_train[\"size_merge\"].map(cat2labe)\n",
    "tmp_test[\"size_merge\"] = tmp_test[\"size_merge\"].map(cat2labe)"
   ]
  },
  {
   "cell_type": "code",
   "execution_count": 212,
   "id": "e445ec46-f019-44b1-a718-6d4b07428b93",
   "metadata": {},
   "outputs": [],
   "source": [
    "tmp_train[\"size_merge\"] = tmp_train[\"size_merge\"].astype(\"Int64\").astype(\"category\")\n",
    "tmp_test[\"size_merge\"] = tmp_test[\"size_merge\"].astype(\"Int64\").astype(\"category\")"
   ]
  },
  {
   "cell_type": "code",
   "execution_count": 213,
   "id": "fabd9c40-fe04-4ed1-b8b6-120d510a8bd9",
   "metadata": {},
   "outputs": [],
   "source": [
    "tmp_train[[\"id\", \"fold\", \"size_merge\"]].to_csv((FEAT_DIR / \"train\" / \"size_merge\").with_suffix(\".csv\"), index=False)\n",
    "tmp_test[[\"id\", \"size_merge\"]].to_csv((FEAT_DIR / \"test\" / \"size_merge\").with_suffix(\".csv\"), index=False)"
   ]
  },
  {
   "cell_type": "markdown",
   "id": "fb88d28e-84ea-4dab-bc89-d8a8d60bdd55",
   "metadata": {},
   "source": [
    "### cylinders (気筒数)"
   ]
  },
  {
   "cell_type": "code",
   "execution_count": 220,
   "id": "a20c3113-e8dc-451b-8994-43e0bfd5b7d9",
   "metadata": {},
   "outputs": [
    {
     "data": {
      "text/plain": [
       "array(['6', '8', '4', 'other', '10', '12', '5', '3'], dtype=object)"
      ]
     },
     "execution_count": 220,
     "metadata": {},
     "output_type": "execute_result"
    }
   ],
   "source": [
    "train.cylinders.str.replace(\" cylinders\", \"\").unique()"
   ]
  },
  {
   "cell_type": "code",
   "execution_count": 224,
   "id": "c669b212-2bb3-4c90-8ad5-e94df02c9b13",
   "metadata": {},
   "outputs": [],
   "source": [
    "tmp_train = train[[\"id\", \"fold\", \"cylinders\"]].copy()\n",
    "tmp_test = test[[\"id\", \"cylinders\"]].copy()\n",
    "\n",
    "tmp_train[\"cylinders_num\"] = tmp_train[\"cylinders\"].str.replace(\" cylinders\", \"\")\n",
    "tmp_train.loc[tmp_train[\"cylinders_num\"] == \"other\", \"cylinders_num\"] = -1\n",
    "tmp_train[\"cylinders_num\"] = tmp_train[\"cylinders_num\"].astype(int)\n",
    "\n",
    "tmp_test[\"cylinders_num\"] = tmp_test[\"cylinders\"].str.replace(\" cylinders\", \"\")\n",
    "tmp_test.loc[tmp_test[\"cylinders_num\"] == \"other\", \"cylinders_num\"] = -1\n",
    "tmp_test[\"cylinders_num\"] = tmp_test[\"cylinders_num\"].astype(int)"
   ]
  },
  {
   "cell_type": "code",
   "execution_count": 227,
   "id": "c53448ad-9dda-40a4-a2dc-5c525f3e8636",
   "metadata": {},
   "outputs": [],
   "source": [
    "tmp_train[[\"id\", \"fold\", \"cylinders_num\"]].to_csv((FEAT_DIR / \"train\" / \"cylinders_num\").with_suffix(\".csv\"), index=False)\n",
    "tmp_test[[\"id\", \"cylinders_num\"]].to_csv((FEAT_DIR / \"test\" / \"cylinders_num\").with_suffix(\".csv\"), index=False)"
   ]
  },
  {
   "cell_type": "markdown",
   "id": "d303972e-1808-4b08-9d34-3f26e9847079",
   "metadata": {},
   "source": [
    "### fuel"
   ]
  },
  {
   "cell_type": "markdown",
   "id": "8ee08b71-00d1-41b8-b2e8-ecbb60b11904",
   "metadata": {},
   "source": [
    "### title_status"
   ]
  },
  {
   "cell_type": "markdown",
   "id": "dbf66cec-cff5-440e-a4e6-2db28f4a5704",
   "metadata": {},
   "source": [
    "### price"
   ]
  },
  {
   "cell_type": "code",
   "execution_count": 234,
   "id": "a0c7f02e-2114-4d89-ac8a-a0816749b364",
   "metadata": {},
   "outputs": [
    {
     "data": {
      "text/plain": [
       "(1004, 96818)"
      ]
     },
     "execution_count": 234,
     "metadata": {},
     "output_type": "execute_result"
    }
   ],
   "source": [
    "y_min = train.price.min()\n",
    "y_max = train.price.max()\n",
    "y_min, y_max"
   ]
  },
  {
   "cell_type": "code",
   "execution_count": 246,
   "id": "b6e5f2d5-02af-4d5d-8a39-7e061192d114",
   "metadata": {},
   "outputs": [],
   "source": [
    "y_std = (train.price - y_min) / (y_max - y_min)\n",
    "# y_scaled = y_std * (y_max - y_min) + y_min"
   ]
  },
  {
   "cell_type": "code",
   "execution_count": 248,
   "id": "3e837bca-0f7f-4762-938a-45949cdb2017",
   "metadata": {},
   "outputs": [],
   "source": [
    "tmp_train = train[[\"id\", \"fold\"]].copy()\n",
    "\n",
    "tmp_train[\"price_scaled\"] = y_std"
   ]
  },
  {
   "cell_type": "code",
   "execution_count": 249,
   "id": "20790016-7f5c-40ce-9911-b8cae0c14c10",
   "metadata": {},
   "outputs": [
    {
     "data": {
      "text/html": [
       "<div>\n",
       "<style scoped>\n",
       "    .dataframe tbody tr th:only-of-type {\n",
       "        vertical-align: middle;\n",
       "    }\n",
       "\n",
       "    .dataframe tbody tr th {\n",
       "        vertical-align: top;\n",
       "    }\n",
       "\n",
       "    .dataframe thead th {\n",
       "        text-align: right;\n",
       "    }\n",
       "</style>\n",
       "<table border=\"1\" class=\"dataframe\">\n",
       "  <thead>\n",
       "    <tr style=\"text-align: right;\">\n",
       "      <th></th>\n",
       "      <th>id</th>\n",
       "      <th>fold</th>\n",
       "      <th>price_scaled</th>\n",
       "    </tr>\n",
       "  </thead>\n",
       "  <tbody>\n",
       "    <tr>\n",
       "      <th>0</th>\n",
       "      <td>0</td>\n",
       "      <td>3</td>\n",
       "      <td>0.277444</td>\n",
       "    </tr>\n",
       "    <tr>\n",
       "      <th>1</th>\n",
       "      <td>1</td>\n",
       "      <td>7</td>\n",
       "      <td>0.038825</td>\n",
       "    </tr>\n",
       "    <tr>\n",
       "      <th>2</th>\n",
       "      <td>2</td>\n",
       "      <td>6</td>\n",
       "      <td>0.103607</td>\n",
       "    </tr>\n",
       "    <tr>\n",
       "      <th>3</th>\n",
       "      <td>3</td>\n",
       "      <td>1</td>\n",
       "      <td>0.162283</td>\n",
       "    </tr>\n",
       "    <tr>\n",
       "      <th>4</th>\n",
       "      <td>4</td>\n",
       "      <td>4</td>\n",
       "      <td>0.043355</td>\n",
       "    </tr>\n",
       "  </tbody>\n",
       "</table>\n",
       "</div>"
      ],
      "text/plain": [
       "   id  fold  price_scaled\n",
       "0   0     3      0.277444\n",
       "1   1     7      0.038825\n",
       "2   2     6      0.103607\n",
       "3   3     1      0.162283\n",
       "4   4     4      0.043355"
      ]
     },
     "execution_count": 249,
     "metadata": {},
     "output_type": "execute_result"
    }
   ],
   "source": [
    "tmp_train.head()"
   ]
  },
  {
   "cell_type": "code",
   "execution_count": 250,
   "id": "4b2f5f3d-e099-42b8-8b6f-8d0693d85705",
   "metadata": {},
   "outputs": [],
   "source": [
    "tmp_train[[\"id\", \"fold\", \"price_scaled\"]].to_csv((FEAT_DIR / \"train\" / \"price_scaled\").with_suffix(\".csv\"), index=False)"
   ]
  },
  {
   "cell_type": "code",
   "execution_count": 238,
   "id": "8c5ead7d-327d-4a24-b35f-883ee492ca95",
   "metadata": {},
   "outputs": [],
   "source": [
    "tmp_train = train[[\"id\", \"fold\", \"price\"]].copy()\n",
    "\n",
    "tmp_train[[\"id\", \"fold\", \"price\"]].to_csv((FEAT_DIR / \"train\" / \"price\").with_suffix(\".csv\"), index=False)"
   ]
  },
  {
   "cell_type": "code",
   "execution_count": null,
   "id": "d290b167-245d-4c40-a6c4-decef4f8ad49",
   "metadata": {},
   "outputs": [],
   "source": []
  }
 ],
 "metadata": {
  "kernelspec": {
   "display_name": "Python 3 (ipykernel)",
   "language": "python",
   "name": "python3"
  },
  "language_info": {
   "codemirror_mode": {
    "name": "ipython",
    "version": 3
   },
   "file_extension": ".py",
   "mimetype": "text/x-python",
   "name": "python",
   "nbconvert_exporter": "python",
   "pygments_lexer": "ipython3",
   "version": "3.11.4"
  }
 },
 "nbformat": 4,
 "nbformat_minor": 5
}
